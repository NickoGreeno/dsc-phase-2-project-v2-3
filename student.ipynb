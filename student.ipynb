{
 "cells": [
  {
   "cell_type": "markdown",
   "metadata": {},
   "source": [
    "## Final Project Submission\n",
    "\n",
    "Please fill out:\n",
    "* Student name: Nicholas Green\n",
    "* Student pace: self pace\n",
    "* Scheduled project review date/time: \n",
    "* Instructor name: Abhineet Kulkarni\n",
    "* Blog post URL:\n"
   ]
  },
  {
   "cell_type": "markdown",
   "metadata": {},
   "source": [
    "# Overview\n",
    "This project analyzes the oppurtunity for Zillow, an online real estate marketplace company, to encourage homeowners in making smart renovations to increase their home's equity. Exploratory data analysis shows trends in home value are related to certain home features and can be touched on to make one's residence more noteworthy. Models can be made using this data to implement a tool Zillow can use to make impactful suggestions."
   ]
  },
  {
   "cell_type": "markdown",
   "metadata": {},
   "source": [
    "# Business Understanding\n",
    "### Stakeholders\n",
    "Zillow, as previously stated, is an online real estate marketplace company. Online and founded by former Microsoft executives, is a company familiar with implementing user friendly data-driven tools.\n",
    "\n",
    "### What We Are Answering\n",
    "We are seeking to provide competitive insight as to which renovations provide value within a home by building a statistical regression model. It will answer how certain renovations tied to certain aspects of a home generate a calulable surplus in home value."
   ]
  },
  {
   "cell_type": "markdown",
   "metadata": {},
   "source": [
    "# Data Understanding"
   ]
  },
  {
   "cell_type": "markdown",
   "metadata": {},
   "source": [
    "### Data Summary\n",
    "The data comes from the metropolitan King County, Washington, a northwestern part of the country. King County holds a population of 2,269,675 according to the 2020 census, making it more populous than the average county. King County is strongly liberal, has a large minority demographic of at least 35.2 perecent, and its 2016 median household income is above its contemporary US average counterpart 57,617, at 78,800. \n",
    "\n",
    "Assuming these characteristics still hold true, it could suggest that prices for renovations may yield more here than other parts of the country since King County seems pricier than the average county. That detail can be overlooked when generalizing our model however, so no cause for concern. The fact that the area is quite diverse helps the model as well, since it helps the model project for all kinds of people using it. Lastly, the population of the area serves to improve the model because the amount of people is sufficient to draw accurate conclusions from."
   ]
  },
  {
   "cell_type": "markdown",
   "metadata": {},
   "source": [
    "### Data Representation\n",
    "\n",
    "#### Understanding The Variables\n",
    "Now that the data's origin is validated, breaking down each column's significance is important for understanding how each variable is meant to be interpreted. The following is pasted from an accompanying file in this repository\n",
    "\n",
    "#### Column Names and Descriptions for King County Data Set\n",
    "* `id` - Unique identifier for a house\n",
    "* `date` - Date house was sold\n",
    "* `price` - Sale price (prediction target)\n",
    "* `bedrooms` - Number of bedrooms\n",
    "* `bathrooms` - Number of bathrooms\n",
    "* `sqft_living` - Square footage of living space in the home\n",
    "* `sqft_lot` - Square footage of the lot\n",
    "* `floors` - Number of floors (levels) in house\n",
    "* `waterfront` - Whether the house is on a waterfront\n",
    "  * Includes Duwamish, Elliott Bay, Puget Sound, Lake Union, Ship Canal, Lake Washington, Lake Sammamish, other lake, and river/slough waterfronts\n",
    "* `view` - Quality of view from house\n",
    "  * Includes views of Mt. Rainier, Olympics, Cascades, Territorial, Seattle Skyline, Puget Sound, Lake Washington, Lake Sammamish, small lake / river / creek, and other\n",
    "* `condition` - How good the overall condition of the house is. Related to maintenance of house.\n",
    "  * See the [King County Assessor Website](https://info.kingcounty.gov/assessor/esales/Glossary.aspx?type=r) for further explanation of each condition code\n",
    "* `grade` - Overall grade of the house. Related to the construction and design of the house.\n",
    "  * See the [King County Assessor Website](https://info.kingcounty.gov/assessor/esales/Glossary.aspx?type=r) for further explanation of each building grade code\n",
    "* `sqft_above` - Square footage of house apart from basement\n",
    "* `sqft_basement` - Square footage of the basement\n",
    "* `yr_built` - Year when house was built\n",
    "* `yr_renovated` - Year when house was renovated\n",
    "* `zipcode` - ZIP Code used by the United States Postal Service\n",
    "* `lat` - Latitude coordinate\n",
    "* `long` - Longitude coordinate\n",
    "* `sqft_living15` - The square footage of interior housing living space for the nearest 15 neighbors\n",
    "* `sqft_lot15` - The square footage of the land lots of the nearest 15 neighbors"
   ]
  },
  {
   "cell_type": "markdown",
   "metadata": {},
   "source": [
    "#### Inspecting The Data\n",
    "After understanding each part of the data, it is time to explore it, clean it, and find trends within it."
   ]
  },
  {
   "cell_type": "code",
   "execution_count": 2,
   "metadata": {},
   "outputs": [],
   "source": [
    "#importing modules\n",
    "import pandas as pd\n",
    "import numpy as np\n",
    "import matplotlib.pyplot as plt\n",
    "import seaborn as sns\n",
    "import math\n",
    "%matplotlib inline"
   ]
  },
  {
   "cell_type": "code",
   "execution_count": 162,
   "metadata": {
    "scrolled": false
   },
   "outputs": [
    {
     "data": {
      "text/html": [
       "<div>\n",
       "<style scoped>\n",
       "    .dataframe tbody tr th:only-of-type {\n",
       "        vertical-align: middle;\n",
       "    }\n",
       "\n",
       "    .dataframe tbody tr th {\n",
       "        vertical-align: top;\n",
       "    }\n",
       "\n",
       "    .dataframe thead th {\n",
       "        text-align: right;\n",
       "    }\n",
       "</style>\n",
       "<table border=\"1\" class=\"dataframe\">\n",
       "  <thead>\n",
       "    <tr style=\"text-align: right;\">\n",
       "      <th></th>\n",
       "      <th>id</th>\n",
       "      <th>date</th>\n",
       "      <th>price</th>\n",
       "      <th>bedrooms</th>\n",
       "      <th>bathrooms</th>\n",
       "      <th>sqft_living</th>\n",
       "      <th>sqft_lot</th>\n",
       "      <th>floors</th>\n",
       "      <th>waterfront</th>\n",
       "      <th>view</th>\n",
       "      <th>...</th>\n",
       "      <th>grade</th>\n",
       "      <th>sqft_above</th>\n",
       "      <th>sqft_basement</th>\n",
       "      <th>yr_built</th>\n",
       "      <th>yr_renovated</th>\n",
       "      <th>zipcode</th>\n",
       "      <th>lat</th>\n",
       "      <th>long</th>\n",
       "      <th>sqft_living15</th>\n",
       "      <th>sqft_lot15</th>\n",
       "    </tr>\n",
       "  </thead>\n",
       "  <tbody>\n",
       "    <tr>\n",
       "      <th>0</th>\n",
       "      <td>7129300520</td>\n",
       "      <td>10/13/2014</td>\n",
       "      <td>221900.0</td>\n",
       "      <td>3</td>\n",
       "      <td>1.00</td>\n",
       "      <td>1180</td>\n",
       "      <td>5650</td>\n",
       "      <td>1.0</td>\n",
       "      <td>NaN</td>\n",
       "      <td>NONE</td>\n",
       "      <td>...</td>\n",
       "      <td>7 Average</td>\n",
       "      <td>1180</td>\n",
       "      <td>0.0</td>\n",
       "      <td>1955</td>\n",
       "      <td>0.0</td>\n",
       "      <td>98178</td>\n",
       "      <td>47.5112</td>\n",
       "      <td>-122.257</td>\n",
       "      <td>1340</td>\n",
       "      <td>5650</td>\n",
       "    </tr>\n",
       "    <tr>\n",
       "      <th>1</th>\n",
       "      <td>6414100192</td>\n",
       "      <td>12/9/2014</td>\n",
       "      <td>538000.0</td>\n",
       "      <td>3</td>\n",
       "      <td>2.25</td>\n",
       "      <td>2570</td>\n",
       "      <td>7242</td>\n",
       "      <td>2.0</td>\n",
       "      <td>NO</td>\n",
       "      <td>NONE</td>\n",
       "      <td>...</td>\n",
       "      <td>7 Average</td>\n",
       "      <td>2170</td>\n",
       "      <td>400.0</td>\n",
       "      <td>1951</td>\n",
       "      <td>1991.0</td>\n",
       "      <td>98125</td>\n",
       "      <td>47.7210</td>\n",
       "      <td>-122.319</td>\n",
       "      <td>1690</td>\n",
       "      <td>7639</td>\n",
       "    </tr>\n",
       "    <tr>\n",
       "      <th>2</th>\n",
       "      <td>5631500400</td>\n",
       "      <td>2/25/2015</td>\n",
       "      <td>180000.0</td>\n",
       "      <td>2</td>\n",
       "      <td>1.00</td>\n",
       "      <td>770</td>\n",
       "      <td>10000</td>\n",
       "      <td>1.0</td>\n",
       "      <td>NO</td>\n",
       "      <td>NONE</td>\n",
       "      <td>...</td>\n",
       "      <td>6 Low Average</td>\n",
       "      <td>770</td>\n",
       "      <td>0.0</td>\n",
       "      <td>1933</td>\n",
       "      <td>NaN</td>\n",
       "      <td>98028</td>\n",
       "      <td>47.7379</td>\n",
       "      <td>-122.233</td>\n",
       "      <td>2720</td>\n",
       "      <td>8062</td>\n",
       "    </tr>\n",
       "    <tr>\n",
       "      <th>3</th>\n",
       "      <td>2487200875</td>\n",
       "      <td>12/9/2014</td>\n",
       "      <td>604000.0</td>\n",
       "      <td>4</td>\n",
       "      <td>3.00</td>\n",
       "      <td>1960</td>\n",
       "      <td>5000</td>\n",
       "      <td>1.0</td>\n",
       "      <td>NO</td>\n",
       "      <td>NONE</td>\n",
       "      <td>...</td>\n",
       "      <td>7 Average</td>\n",
       "      <td>1050</td>\n",
       "      <td>910.0</td>\n",
       "      <td>1965</td>\n",
       "      <td>0.0</td>\n",
       "      <td>98136</td>\n",
       "      <td>47.5208</td>\n",
       "      <td>-122.393</td>\n",
       "      <td>1360</td>\n",
       "      <td>5000</td>\n",
       "    </tr>\n",
       "    <tr>\n",
       "      <th>4</th>\n",
       "      <td>1954400510</td>\n",
       "      <td>2/18/2015</td>\n",
       "      <td>510000.0</td>\n",
       "      <td>3</td>\n",
       "      <td>2.00</td>\n",
       "      <td>1680</td>\n",
       "      <td>8080</td>\n",
       "      <td>1.0</td>\n",
       "      <td>NO</td>\n",
       "      <td>NONE</td>\n",
       "      <td>...</td>\n",
       "      <td>8 Good</td>\n",
       "      <td>1680</td>\n",
       "      <td>0.0</td>\n",
       "      <td>1987</td>\n",
       "      <td>0.0</td>\n",
       "      <td>98074</td>\n",
       "      <td>47.6168</td>\n",
       "      <td>-122.045</td>\n",
       "      <td>1800</td>\n",
       "      <td>7503</td>\n",
       "    </tr>\n",
       "  </tbody>\n",
       "</table>\n",
       "<p>5 rows × 21 columns</p>\n",
       "</div>"
      ],
      "text/plain": [
       "           id        date     price  bedrooms  bathrooms  sqft_living  \\\n",
       "0  7129300520  10/13/2014  221900.0         3       1.00         1180   \n",
       "1  6414100192   12/9/2014  538000.0         3       2.25         2570   \n",
       "2  5631500400   2/25/2015  180000.0         2       1.00          770   \n",
       "3  2487200875   12/9/2014  604000.0         4       3.00         1960   \n",
       "4  1954400510   2/18/2015  510000.0         3       2.00         1680   \n",
       "\n",
       "   sqft_lot  floors waterfront  view  ...          grade sqft_above  \\\n",
       "0      5650     1.0        NaN  NONE  ...      7 Average       1180   \n",
       "1      7242     2.0         NO  NONE  ...      7 Average       2170   \n",
       "2     10000     1.0         NO  NONE  ...  6 Low Average        770   \n",
       "3      5000     1.0         NO  NONE  ...      7 Average       1050   \n",
       "4      8080     1.0         NO  NONE  ...         8 Good       1680   \n",
       "\n",
       "   sqft_basement yr_built  yr_renovated  zipcode      lat     long  \\\n",
       "0            0.0     1955           0.0    98178  47.5112 -122.257   \n",
       "1          400.0     1951        1991.0    98125  47.7210 -122.319   \n",
       "2            0.0     1933           NaN    98028  47.7379 -122.233   \n",
       "3          910.0     1965           0.0    98136  47.5208 -122.393   \n",
       "4            0.0     1987           0.0    98074  47.6168 -122.045   \n",
       "\n",
       "   sqft_living15  sqft_lot15  \n",
       "0           1340        5650  \n",
       "1           1690        7639  \n",
       "2           2720        8062  \n",
       "3           1360        5000  \n",
       "4           1800        7503  \n",
       "\n",
       "[5 rows x 21 columns]"
      ]
     },
     "execution_count": 162,
     "metadata": {},
     "output_type": "execute_result"
    }
   ],
   "source": [
    "#Loading Data\n",
    "house_data = pd.read_csv('data/kc_house_data.csv')\n",
    "house_data.head()"
   ]
  },
  {
   "cell_type": "code",
   "execution_count": 163,
   "metadata": {
    "scrolled": false
   },
   "outputs": [
    {
     "name": "stdout",
     "output_type": "stream",
     "text": [
      "<class 'pandas.core.frame.DataFrame'>\n",
      "RangeIndex: 21597 entries, 0 to 21596\n",
      "Data columns (total 21 columns):\n",
      " #   Column         Non-Null Count  Dtype  \n",
      "---  ------         --------------  -----  \n",
      " 0   id             21597 non-null  int64  \n",
      " 1   date           21597 non-null  object \n",
      " 2   price          21597 non-null  float64\n",
      " 3   bedrooms       21597 non-null  int64  \n",
      " 4   bathrooms      21597 non-null  float64\n",
      " 5   sqft_living    21597 non-null  int64  \n",
      " 6   sqft_lot       21597 non-null  int64  \n",
      " 7   floors         21597 non-null  float64\n",
      " 8   waterfront     19221 non-null  object \n",
      " 9   view           21534 non-null  object \n",
      " 10  condition      21597 non-null  object \n",
      " 11  grade          21597 non-null  object \n",
      " 12  sqft_above     21597 non-null  int64  \n",
      " 13  sqft_basement  21597 non-null  object \n",
      " 14  yr_built       21597 non-null  int64  \n",
      " 15  yr_renovated   17755 non-null  float64\n",
      " 16  zipcode        21597 non-null  int64  \n",
      " 17  lat            21597 non-null  float64\n",
      " 18  long           21597 non-null  float64\n",
      " 19  sqft_living15  21597 non-null  int64  \n",
      " 20  sqft_lot15     21597 non-null  int64  \n",
      "dtypes: float64(6), int64(9), object(6)\n",
      "memory usage: 3.5+ MB\n"
     ]
    },
    {
     "data": {
      "text/plain": [
       "id                  0\n",
       "date                0\n",
       "price               0\n",
       "bedrooms            0\n",
       "bathrooms           0\n",
       "sqft_living         0\n",
       "sqft_lot            0\n",
       "floors              0\n",
       "waterfront       2376\n",
       "view               63\n",
       "condition           0\n",
       "grade               0\n",
       "sqft_above          0\n",
       "sqft_basement       0\n",
       "yr_built            0\n",
       "yr_renovated     3842\n",
       "zipcode             0\n",
       "lat                 0\n",
       "long                0\n",
       "sqft_living15       0\n",
       "sqft_lot15          0\n",
       "dtype: int64"
      ]
     },
     "execution_count": 163,
     "metadata": {},
     "output_type": "execute_result"
    }
   ],
   "source": [
    "#Observing Data Types\n",
    "house_data.info()\n",
    "\n",
    "#Counting Missing Values\n",
    "house_data.isna().sum()"
   ]
  },
  {
   "cell_type": "code",
   "execution_count": 164,
   "metadata": {},
   "outputs": [
    {
     "data": {
      "text/html": [
       "<div>\n",
       "<style scoped>\n",
       "    .dataframe tbody tr th:only-of-type {\n",
       "        vertical-align: middle;\n",
       "    }\n",
       "\n",
       "    .dataframe tbody tr th {\n",
       "        vertical-align: top;\n",
       "    }\n",
       "\n",
       "    .dataframe thead th {\n",
       "        text-align: right;\n",
       "    }\n",
       "</style>\n",
       "<table border=\"1\" class=\"dataframe\">\n",
       "  <thead>\n",
       "    <tr style=\"text-align: right;\">\n",
       "      <th></th>\n",
       "      <th>waterfront</th>\n",
       "      <th>view</th>\n",
       "      <th>yr_renovated</th>\n",
       "    </tr>\n",
       "  </thead>\n",
       "  <tbody>\n",
       "    <tr>\n",
       "      <th>0</th>\n",
       "      <td>NaN</td>\n",
       "      <td>NONE</td>\n",
       "      <td>0.0</td>\n",
       "    </tr>\n",
       "    <tr>\n",
       "      <th>1</th>\n",
       "      <td>NO</td>\n",
       "      <td>NONE</td>\n",
       "      <td>1991.0</td>\n",
       "    </tr>\n",
       "    <tr>\n",
       "      <th>2</th>\n",
       "      <td>NO</td>\n",
       "      <td>NONE</td>\n",
       "      <td>NaN</td>\n",
       "    </tr>\n",
       "    <tr>\n",
       "      <th>3</th>\n",
       "      <td>NO</td>\n",
       "      <td>NONE</td>\n",
       "      <td>0.0</td>\n",
       "    </tr>\n",
       "    <tr>\n",
       "      <th>4</th>\n",
       "      <td>NO</td>\n",
       "      <td>NONE</td>\n",
       "      <td>0.0</td>\n",
       "    </tr>\n",
       "  </tbody>\n",
       "</table>\n",
       "</div>"
      ],
      "text/plain": [
       "  waterfront  view  yr_renovated\n",
       "0        NaN  NONE           0.0\n",
       "1         NO  NONE        1991.0\n",
       "2         NO  NONE           NaN\n",
       "3         NO  NONE           0.0\n",
       "4         NO  NONE           0.0"
      ]
     },
     "execution_count": 164,
     "metadata": {},
     "output_type": "execute_result"
    }
   ],
   "source": [
    "#Oberving Null Denotations\n",
    "house_data[['waterfront', 'view', 'yr_renovated']].head()"
   ]
  },
  {
   "cell_type": "code",
   "execution_count": 165,
   "metadata": {
    "scrolled": false
   },
   "outputs": [
    {
     "data": {
      "text/plain": [
       "id               0\n",
       "date             0\n",
       "price            0\n",
       "bedrooms         0\n",
       "bathrooms        0\n",
       "sqft_living      0\n",
       "sqft_lot         0\n",
       "floors           0\n",
       "waterfront       0\n",
       "view             0\n",
       "condition        0\n",
       "grade            0\n",
       "sqft_above       0\n",
       "sqft_basement    0\n",
       "yr_built         0\n",
       "yr_renovated     0\n",
       "zipcode          0\n",
       "lat              0\n",
       "long             0\n",
       "sqft_living15    0\n",
       "sqft_lot15       0\n",
       "dtype: int64"
      ]
     },
     "execution_count": 165,
     "metadata": {},
     "output_type": "execute_result"
    }
   ],
   "source": [
    "#Replacing Nulls\n",
    "for col in house_data.columns:\n",
    "    try:\n",
    "        median = house_data[col].median()\n",
    "        house_data[col] = house_data[col].fillna(value=median)\n",
    "    except:\n",
    "        continue\n",
    "house_data.waterfront = house_data.waterfront.fillna('NO')\n",
    "house_data.view = house_data.view.fillna('NONE')\n",
    "house_data.isna().sum()"
   ]
  },
  {
   "cell_type": "code",
   "execution_count": 166,
   "metadata": {},
   "outputs": [
    {
     "data": {
      "text/html": [
       "<div>\n",
       "<style scoped>\n",
       "    .dataframe tbody tr th:only-of-type {\n",
       "        vertical-align: middle;\n",
       "    }\n",
       "\n",
       "    .dataframe tbody tr th {\n",
       "        vertical-align: top;\n",
       "    }\n",
       "\n",
       "    .dataframe thead th {\n",
       "        text-align: right;\n",
       "    }\n",
       "</style>\n",
       "<table border=\"1\" class=\"dataframe\">\n",
       "  <thead>\n",
       "    <tr style=\"text-align: right;\">\n",
       "      <th></th>\n",
       "      <th>waterfront</th>\n",
       "      <th>view</th>\n",
       "      <th>yr_renovated</th>\n",
       "    </tr>\n",
       "  </thead>\n",
       "  <tbody>\n",
       "    <tr>\n",
       "      <th>0</th>\n",
       "      <td>NO</td>\n",
       "      <td>NONE</td>\n",
       "      <td>0.0</td>\n",
       "    </tr>\n",
       "    <tr>\n",
       "      <th>1</th>\n",
       "      <td>NO</td>\n",
       "      <td>NONE</td>\n",
       "      <td>1991.0</td>\n",
       "    </tr>\n",
       "    <tr>\n",
       "      <th>2</th>\n",
       "      <td>NO</td>\n",
       "      <td>NONE</td>\n",
       "      <td>0.0</td>\n",
       "    </tr>\n",
       "    <tr>\n",
       "      <th>3</th>\n",
       "      <td>NO</td>\n",
       "      <td>NONE</td>\n",
       "      <td>0.0</td>\n",
       "    </tr>\n",
       "    <tr>\n",
       "      <th>4</th>\n",
       "      <td>NO</td>\n",
       "      <td>NONE</td>\n",
       "      <td>0.0</td>\n",
       "    </tr>\n",
       "  </tbody>\n",
       "</table>\n",
       "</div>"
      ],
      "text/plain": [
       "  waterfront  view  yr_renovated\n",
       "0         NO  NONE           0.0\n",
       "1         NO  NONE        1991.0\n",
       "2         NO  NONE           0.0\n",
       "3         NO  NONE           0.0\n",
       "4         NO  NONE           0.0"
      ]
     },
     "execution_count": 166,
     "metadata": {},
     "output_type": "execute_result"
    }
   ],
   "source": [
    "#Inspecting Filled Values\n",
    "house_data[['waterfront', 'view', 'yr_renovated']].head()"
   ]
  },
  {
   "cell_type": "markdown",
   "metadata": {},
   "source": [
    "#### Data Range\n",
    "I am curious about the dates of the data. Looking up the spread of the years the home were built will describe the ages of the houses we are looking at. I am also curious about the years homes were renovated"
   ]
  },
  {
   "cell_type": "code",
   "execution_count": 167,
   "metadata": {
    "scrolled": false
   },
   "outputs": [
    {
     "data": {
      "text/html": [
       "<div>\n",
       "<style scoped>\n",
       "    .dataframe tbody tr th:only-of-type {\n",
       "        vertical-align: middle;\n",
       "    }\n",
       "\n",
       "    .dataframe tbody tr th {\n",
       "        vertical-align: top;\n",
       "    }\n",
       "\n",
       "    .dataframe thead th {\n",
       "        text-align: right;\n",
       "    }\n",
       "</style>\n",
       "<table border=\"1\" class=\"dataframe\">\n",
       "  <thead>\n",
       "    <tr style=\"text-align: right;\">\n",
       "      <th></th>\n",
       "      <th>yr_built</th>\n",
       "      <th>yr_renovated</th>\n",
       "    </tr>\n",
       "  </thead>\n",
       "  <tbody>\n",
       "    <tr>\n",
       "      <th>count</th>\n",
       "      <td>21597.000000</td>\n",
       "      <td>21597.000000</td>\n",
       "    </tr>\n",
       "    <tr>\n",
       "      <th>mean</th>\n",
       "      <td>1970.999676</td>\n",
       "      <td>68.758207</td>\n",
       "    </tr>\n",
       "    <tr>\n",
       "      <th>std</th>\n",
       "      <td>29.375234</td>\n",
       "      <td>364.037499</td>\n",
       "    </tr>\n",
       "    <tr>\n",
       "      <th>min</th>\n",
       "      <td>1900.000000</td>\n",
       "      <td>0.000000</td>\n",
       "    </tr>\n",
       "    <tr>\n",
       "      <th>25%</th>\n",
       "      <td>1951.000000</td>\n",
       "      <td>0.000000</td>\n",
       "    </tr>\n",
       "    <tr>\n",
       "      <th>50%</th>\n",
       "      <td>1975.000000</td>\n",
       "      <td>0.000000</td>\n",
       "    </tr>\n",
       "    <tr>\n",
       "      <th>75%</th>\n",
       "      <td>1997.000000</td>\n",
       "      <td>0.000000</td>\n",
       "    </tr>\n",
       "    <tr>\n",
       "      <th>max</th>\n",
       "      <td>2015.000000</td>\n",
       "      <td>2015.000000</td>\n",
       "    </tr>\n",
       "  </tbody>\n",
       "</table>\n",
       "</div>"
      ],
      "text/plain": [
       "           yr_built  yr_renovated\n",
       "count  21597.000000  21597.000000\n",
       "mean    1970.999676     68.758207\n",
       "std       29.375234    364.037499\n",
       "min     1900.000000      0.000000\n",
       "25%     1951.000000      0.000000\n",
       "50%     1975.000000      0.000000\n",
       "75%     1997.000000      0.000000\n",
       "max     2015.000000   2015.000000"
      ]
     },
     "execution_count": 167,
     "metadata": {},
     "output_type": "execute_result"
    }
   ],
   "source": [
    "house_data[['yr_built', 'yr_renovated']].describe()"
   ]
  },
  {
   "cell_type": "markdown",
   "metadata": {},
   "source": [
    "It looks like the earliest home was built in 1900, meaning the houses range from 1900 to 2015 for a total spread of 115 years. Furthermore, the mean is lower than the median indicating that there is a slight left skew of the data from the earliest builds, but the majority of houses were made within the last 50 years.\n",
    "\n",
    "The years renovated seems fishy. Houses could not be renovated if they were not built, yet more than 75% of the data says they were renovated in year 0. Perhaps 0 is meant to show that there were not any renovations made, meaning the majority of houses built are the same they have ever been. Further investigation will be needed to better understand the spread of houses that have been renovated. "
   ]
  },
  {
   "cell_type": "code",
   "execution_count": 168,
   "metadata": {
    "scrolled": false
   },
   "outputs": [
    {
     "data": {
      "text/plain": [
       "(count    21597.000000\n",
       " mean      1970.999676\n",
       " std         29.375234\n",
       " min       1900.000000\n",
       " 25%       1951.000000\n",
       " 50%       1975.000000\n",
       " 75%       1997.000000\n",
       " max       2015.000000\n",
       " Name: yr_built, dtype: float64,\n",
       " count     744.000000\n",
       " mean     1995.928763\n",
       " std        15.599946\n",
       " min      1934.000000\n",
       " 25%      1987.000000\n",
       " 50%      2000.000000\n",
       " 75%      2007.250000\n",
       " max      2015.000000\n",
       " Name: yr_renovated, dtype: float64)"
      ]
     },
     "execution_count": 168,
     "metadata": {},
     "output_type": "execute_result"
    }
   ],
   "source": [
    "#Investigating renovated houses\n",
    "renovated = house_data['yr_renovated'].sort_values(ascending=False).head((house_data['yr_renovated'] > 0).sum())\n",
    "house_data['yr_built'].describe(), renovated.describe()"
   ]
  },
  {
   "cell_type": "markdown",
   "metadata": {},
   "source": [
    "There are only 744 of the entire 21,597 houses that have been renovated. The renovations range from 1934 to 2015 for a total spread of 81 years. The majority of renovations have been made within the last 30 years which makes sense because some houses built up to that point needed updating. The mean is lower than the median which suggests that the earliest renovations skew the data left."
   ]
  },
  {
   "cell_type": "code",
   "execution_count": 169,
   "metadata": {
    "scrolled": false
   },
   "outputs": [
    {
     "data": {
      "image/png": "[encoded data removed]",
      "text/plain": [
       "<Figure size 1152x720 with 1 Axes>"
      ]
     },
     "metadata": {
      "needs_background": "light"
     },
     "output_type": "display_data"
    }
   ],
   "source": [
    "#Plotting their distributions\n",
    "house_data['yr_built'].hist(color='green', label='Built', bins='auto', figsize=(16, 10))\n",
    "renovated.hist(color='purple', label='Renovated', bins='auto')\n",
    "\n",
    "plt.legend()\n",
    "plt.title('Houses Built and Renovated Since 1900')\n",
    "plt.xlabel('Year')\n",
    "plt.ylabel('Number of Houses')\n",
    "plt.show()"
   ]
  },
  {
   "cell_type": "markdown",
   "metadata": {},
   "source": [
    "Wow, with that visual it is easy to see how vastly unrenovated houses outnumber their renovated counterparts in this data.\n",
    "Are renovated houses worth more however? The question to answer is how much renovations may increase home value after all."
   ]
  },
  {
   "cell_type": "code",
   "execution_count": 170,
   "metadata": {
    "scrolled": true
   },
   "outputs": [
    {
     "name": "stdout",
     "output_type": "stream",
     "text": [
      "Renovated median: $ 607502.0\n",
      "Unrenovated median: $ 449000.0\n",
      "The typical renovated house is worth $ 158502.0 more by comparison of medians\n"
     ]
    }
   ],
   "source": [
    "#Finding the mean price of renovated and unrenovated houses\n",
    "renovated_price = house_data[house_data['yr_renovated'] != 0]['price']\n",
    "print('Renovated median: $', renovated_price.median())\n",
    "unrenovated_price = house_data[house_data['yr_renovated'] == 0]['price']\n",
    "print('Unrenovated median: $', unrenovated_price.median())\n",
    "\n",
    "\"\"\"\n",
    "Finding how much more the median renovated house is worth than unrenovated\n",
    "\"\"\"\n",
    "print('The typical renovated house is worth $', renovated_price.median()-unrenovated_price.median(), \n",
    "'more by comparison of medians')"
   ]
  },
  {
   "cell_type": "code",
   "execution_count": 131,
   "metadata": {},
   "outputs": [
    {
     "data": {
      "text/plain": [
       "0        7\n",
       "1        7\n",
       "2        6\n",
       "3        7\n",
       "4        8\n",
       "        ..\n",
       "21592    8\n",
       "21593    8\n",
       "21594    7\n",
       "21595    8\n",
       "21596    7\n",
       "Name: grade, Length: 21597, dtype: int64"
      ]
     },
     "execution_count": 131,
     "metadata": {},
     "output_type": "execute_result"
    }
   ],
   "source": [
    "def replace1(col):\n",
    "    new = []\n",
    "    for i in house_data[col]:\n",
    "        new.append(int(i[0:2]))\n",
    "    return new\n",
    "\n",
    "house_data['grade'] = replace1('grade')\n",
    "house_data['grade']"
   ]
  },
  {
   "cell_type": "markdown",
   "metadata": {},
   "source": [
    "It seems renovated homes are worth considerably more. The major difference in sample size may affect that number, but the difference begs investigation into home values.\n",
    "\n",
    "Making histograms of each variable shows the distribution and therefore noteworthy variables. Near normal histograms for variables are good signs."
   ]
  },
  {
   "cell_type": "code",
   "execution_count": 132,
   "metadata": {
    "scrolled": false
   },
   "outputs": [
    {
     "data": {
      "image/png": "[encoded data removed]",
      "text/plain": [
       "<Figure size 1440x1296 with 16 Axes>"
      ]
     },
     "metadata": {
      "needs_background": "light"
     },
     "output_type": "display_data"
    }
   ],
   "source": [
    "house_data.hist(bins='auto', figsize=(20,18))\n",
    "\n",
    "plt.show()"
   ]
  },
  {
   "cell_type": "markdown",
   "metadata": {},
   "source": [
    "# Modeling\n",
    "\n",
    "After identifying some variables to be more influential than others, it is time to test them against our model. The goal of the model is to obtain a satisfactory R-squared coefficent since that explains how well the model accounts for the data's variance. It is also important to examine how linear the variables are with the outcome, since linear regression models are contingent on such a relationship. Collinearity should also be checked for since there may be variables influencing others.\n",
    "\n",
    "Since price is the variable that is trying to be estimated, it will be considered the outcome. This will be an interative process to find the model that best fits the data."
   ]
  },
  {
   "cell_type": "code",
   "execution_count": 171,
   "metadata": {},
   "outputs": [],
   "source": [
    "#Variable to be estimated\n",
    "outcome = 'price'\n",
    "#Variables to be tested:\n",
    "x_cols = ['bedrooms', 'bathrooms', 'sqft_living', 'yr_built', 'sqft_lot15']\n",
    "#Normalizing variables\n",
    "for col in x_cols:\n",
    "    house_data[col] = ((house_data[col] - house_data[col].mean())/ house_data[col].std())"
   ]
  },
  {
   "cell_type": "code",
   "execution_count": 172,
   "metadata": {
    "scrolled": false
   },
   "outputs": [
    {
     "data": {
      "text/html": [
       "<table class=\"simpletable\">\n",
       "<caption>OLS Regression Results</caption>\n",
       "<tr>\n",
       "  <th>Dep. Variable:</th>          <td>price</td>      <th>  R-squared:         </th>  <td>   0.553</td>  \n",
       "</tr>\n",
       "<tr>\n",
       "  <th>Model:</th>                   <td>OLS</td>       <th>  Adj. R-squared:    </th>  <td>   0.553</td>  \n",
       "</tr>\n",
       "<tr>\n",
       "  <th>Method:</th>             <td>Least Squares</td>  <th>  F-statistic:       </th>  <td>   5344.</td>  \n",
       "</tr>\n",
       "<tr>\n",
       "  <th>Date:</th>             <td>Sun, 30 Jan 2022</td> <th>  Prob (F-statistic):</th>   <td>  0.00</td>   \n",
       "</tr>\n",
       "<tr>\n",
       "  <th>Time:</th>                 <td>23:26:44</td>     <th>  Log-Likelihood:    </th> <td>-2.9869e+05</td>\n",
       "</tr>\n",
       "<tr>\n",
       "  <th>No. Observations:</th>      <td> 21597</td>      <th>  AIC:               </th>  <td>5.974e+05</td> \n",
       "</tr>\n",
       "<tr>\n",
       "  <th>Df Residuals:</th>          <td> 21591</td>      <th>  BIC:               </th>  <td>5.974e+05</td> \n",
       "</tr>\n",
       "<tr>\n",
       "  <th>Df Model:</th>              <td>     5</td>      <th>                     </th>      <td> </td>     \n",
       "</tr>\n",
       "<tr>\n",
       "  <th>Covariance Type:</th>      <td>nonrobust</td>    <th>                     </th>      <td> </td>     \n",
       "</tr>\n",
       "</table>\n",
       "<table class=\"simpletable\">\n",
       "<tr>\n",
       "       <td></td>          <th>coef</th>     <th>std err</th>      <th>t</th>      <th>P>|t|</th>  <th>[0.025</th>    <th>0.975]</th>  \n",
       "</tr>\n",
       "<tr>\n",
       "  <th>Intercept</th>   <td> 5.403e+05</td> <td> 1671.396</td> <td>  323.261</td> <td> 0.000</td> <td> 5.37e+05</td> <td> 5.44e+05</td>\n",
       "</tr>\n",
       "<tr>\n",
       "  <th>bedrooms</th>    <td>-6.664e+04</td> <td> 2089.877</td> <td>  -31.888</td> <td> 0.000</td> <td>-7.07e+04</td> <td>-6.25e+04</td>\n",
       "</tr>\n",
       "<tr>\n",
       "  <th>bathrooms</th>   <td> 6.147e+04</td> <td> 2881.486</td> <td>   21.334</td> <td> 0.000</td> <td> 5.58e+04</td> <td> 6.71e+04</td>\n",
       "</tr>\n",
       "<tr>\n",
       "  <th>sqft_living</th> <td> 2.818e+05</td> <td> 2774.599</td> <td>  101.556</td> <td> 0.000</td> <td> 2.76e+05</td> <td> 2.87e+05</td>\n",
       "</tr>\n",
       "<tr>\n",
       "  <th>yr_built</th>    <td>-8.932e+04</td> <td> 1966.347</td> <td>  -45.422</td> <td> 0.000</td> <td>-9.32e+04</td> <td>-8.55e+04</td>\n",
       "</tr>\n",
       "<tr>\n",
       "  <th>sqft_lot15</th>  <td>-1.857e+04</td> <td> 1713.654</td> <td>  -10.837</td> <td> 0.000</td> <td>-2.19e+04</td> <td>-1.52e+04</td>\n",
       "</tr>\n",
       "</table>\n",
       "<table class=\"simpletable\">\n",
       "<tr>\n",
       "  <th>Omnibus:</th>       <td>13966.150</td> <th>  Durbin-Watson:     </th>  <td>   1.980</td> \n",
       "</tr>\n",
       "<tr>\n",
       "  <th>Prob(Omnibus):</th>  <td> 0.000</td>   <th>  Jarque-Bera (JB):  </th> <td>477926.428</td>\n",
       "</tr>\n",
       "<tr>\n",
       "  <th>Skew:</th>           <td> 2.604</td>   <th>  Prob(JB):          </th>  <td>    0.00</td> \n",
       "</tr>\n",
       "<tr>\n",
       "  <th>Kurtosis:</th>       <td>25.450</td>   <th>  Cond. No.          </th>  <td>    3.48</td> \n",
       "</tr>\n",
       "</table><br/><br/>Notes:<br/>[1] Standard Errors assume that the covariance matrix of the errors is correctly specified."
      ],
      "text/plain": [
       "<class 'statsmodels.iolib.summary.Summary'>\n",
       "\"\"\"\n",
       "                            OLS Regression Results                            \n",
       "==============================================================================\n",
       "Dep. Variable:                  price   R-squared:                       0.553\n",
       "Model:                            OLS   Adj. R-squared:                  0.553\n",
       "Method:                 Least Squares   F-statistic:                     5344.\n",
       "Date:                Sun, 30 Jan 2022   Prob (F-statistic):               0.00\n",
       "Time:                        23:26:44   Log-Likelihood:            -2.9869e+05\n",
       "No. Observations:               21597   AIC:                         5.974e+05\n",
       "Df Residuals:                   21591   BIC:                         5.974e+05\n",
       "Df Model:                           5                                         \n",
       "Covariance Type:            nonrobust                                         \n",
       "===============================================================================\n",
       "                  coef    std err          t      P>|t|      [0.025      0.975]\n",
       "-------------------------------------------------------------------------------\n",
       "Intercept    5.403e+05   1671.396    323.261      0.000    5.37e+05    5.44e+05\n",
       "bedrooms    -6.664e+04   2089.877    -31.888      0.000   -7.07e+04   -6.25e+04\n",
       "bathrooms    6.147e+04   2881.486     21.334      0.000    5.58e+04    6.71e+04\n",
       "sqft_living  2.818e+05   2774.599    101.556      0.000    2.76e+05    2.87e+05\n",
       "yr_built    -8.932e+04   1966.347    -45.422      0.000   -9.32e+04   -8.55e+04\n",
       "sqft_lot15  -1.857e+04   1713.654    -10.837      0.000   -2.19e+04   -1.52e+04\n",
       "==============================================================================\n",
       "Omnibus:                    13966.150   Durbin-Watson:                   1.980\n",
       "Prob(Omnibus):                  0.000   Jarque-Bera (JB):           477926.428\n",
       "Skew:                           2.604   Prob(JB):                         0.00\n",
       "Kurtosis:                      25.450   Cond. No.                         3.48\n",
       "==============================================================================\n",
       "\n",
       "Notes:\n",
       "[1] Standard Errors assume that the covariance matrix of the errors is correctly specified.\n",
       "\"\"\""
      ]
     },
     "execution_count": 172,
     "metadata": {},
     "output_type": "execute_result"
    }
   ],
   "source": [
    "from statsmodels.formula.api import ols\n",
    "\n",
    "#Constructing model formula\n",
    "predictors = '+'.join(x_cols)\n",
    "formula = outcome + '~' + predictors\n",
    "model = ols(formula=formula, data=house_data).fit()\n",
    "model.summary()"
   ]
  },
  {
   "cell_type": "markdown",
   "metadata": {},
   "source": [
    "* An R-squared value of 0.617 is not bad for the first crack.\n",
    "* There do not appear to be any P values over the alpha value 0.05 either\n",
    "<p>\n",
    "Let's check linearity as well\n",
    "    <p/>"
   ]
  },
  {
   "cell_type": "code",
   "execution_count": 135,
   "metadata": {},
   "outputs": [],
   "source": [
    "#Importing necassary modules\n",
    "import statsmodels.api as sm\n",
    "import scipy.stats as stats"
   ]
  },
  {
   "cell_type": "code",
   "execution_count": 173,
   "metadata": {
    "scrolled": false
   },
   "outputs": [
    {
     "data": {
      "image/png": "[encoded data removed]",
      "text/plain": [
       "<Figure size 432x288 with 1 Axes>"
      ]
     },
     "metadata": {
      "needs_background": "light"
     },
     "output_type": "display_data"
    }
   ],
   "source": [
    "#Compares linearity over quantiles\n",
    "fig = sm.graphics.qqplot(model.resid, dist=stats.norm, line='45', fit=True)"
   ]
  },
  {
   "cell_type": "code",
   "execution_count": 174,
   "metadata": {},
   "outputs": [
    {
     "data": {
      "text/plain": [
       "<AxesSubplot:>"
      ]
     },
     "execution_count": 174,
     "metadata": {},
     "output_type": "execute_result"
    },
    {
     "data": {
      "image/png": "[encoded data removed]",
      "text/plain": [
       "<Figure size 864x720 with 1 Axes>"
      ]
     },
     "metadata": {
      "needs_background": "light"
     },
     "output_type": "display_data"
    }
   ],
   "source": [
    "# Subsetting to better fit\n",
    "subset = house_data[(house_data.price < 1100000)]\n",
    "subset.price.hist(bins='auto', figsize=(12,10))"
   ]
  },
  {
   "cell_type": "code",
   "execution_count": 116,
   "metadata": {},
   "outputs": [],
   "source": [
    "from sklearn.model_selection import train_test_split"
   ]
  },
  {
   "cell_type": "code",
   "execution_count": 175,
   "metadata": {
    "scrolled": false
   },
   "outputs": [
    {
     "name": "stderr",
     "output_type": "stream",
     "text": [
      "C:\\Users\\nadel\\anaconda3\\lib\\site-packages\\pandas\\core\\generic.py:5494: SettingWithCopyWarning: \n",
      "A value is trying to be set on a copy of a slice from a DataFrame.\n",
      "Try using .loc[row_indexer,col_indexer] = value instead\n",
      "\n",
      "See the caveats in the documentation: https://pandas.pydata.org/pandas-docs/stable/user_guide/indexing.html#returning-a-view-versus-a-copy\n",
      "  self[name] = value\n"
     ]
    },
    {
     "data": {
      "text/html": [
       "<table class=\"simpletable\">\n",
       "<caption>OLS Regression Results</caption>\n",
       "<tr>\n",
       "  <th>Dep. Variable:</th>          <td>price</td>      <th>  R-squared:         </th> <td>   0.413</td> \n",
       "</tr>\n",
       "<tr>\n",
       "  <th>Model:</th>                   <td>OLS</td>       <th>  Adj. R-squared:    </th> <td>   0.413</td> \n",
       "</tr>\n",
       "<tr>\n",
       "  <th>Method:</th>             <td>Least Squares</td>  <th>  F-statistic:       </th> <td>   2153.</td> \n",
       "</tr>\n",
       "<tr>\n",
       "  <th>Date:</th>             <td>Sun, 30 Jan 2022</td> <th>  Prob (F-statistic):</th>  <td>  0.00</td>  \n",
       "</tr>\n",
       "<tr>\n",
       "  <th>Time:</th>                 <td>23:27:05</td>     <th>  Log-Likelihood:    </th> <td> -5192.6</td> \n",
       "</tr>\n",
       "<tr>\n",
       "  <th>No. Observations:</th>      <td> 15276</td>      <th>  AIC:               </th> <td>1.040e+04</td>\n",
       "</tr>\n",
       "<tr>\n",
       "  <th>Df Residuals:</th>          <td> 15270</td>      <th>  BIC:               </th> <td>1.044e+04</td>\n",
       "</tr>\n",
       "<tr>\n",
       "  <th>Df Model:</th>              <td>     5</td>      <th>                     </th>     <td> </td>    \n",
       "</tr>\n",
       "<tr>\n",
       "  <th>Covariance Type:</th>      <td>nonrobust</td>    <th>                     </th>     <td> </td>    \n",
       "</tr>\n",
       "</table>\n",
       "<table class=\"simpletable\">\n",
       "<tr>\n",
       "       <td></td>          <th>coef</th>     <th>std err</th>      <th>t</th>      <th>P>|t|</th>  <th>[0.025</th>    <th>0.975]</th>  \n",
       "</tr>\n",
       "<tr>\n",
       "  <th>Intercept</th>   <td>   13.0207</td> <td>    0.003</td> <td> 4677.779</td> <td> 0.000</td> <td>   13.015</td> <td>   13.026</td>\n",
       "</tr>\n",
       "<tr>\n",
       "  <th>bedrooms</th>    <td>   -0.0566</td> <td>    0.003</td> <td>  -16.245</td> <td> 0.000</td> <td>   -0.063</td> <td>   -0.050</td>\n",
       "</tr>\n",
       "<tr>\n",
       "  <th>bathrooms</th>   <td>    0.1015</td> <td>    0.005</td> <td>   20.864</td> <td> 0.000</td> <td>    0.092</td> <td>    0.111</td>\n",
       "</tr>\n",
       "<tr>\n",
       "  <th>sqft_living</th> <td>    0.3246</td> <td>    0.005</td> <td>   62.449</td> <td> 0.000</td> <td>    0.314</td> <td>    0.335</td>\n",
       "</tr>\n",
       "<tr>\n",
       "  <th>yr_built</th>    <td>   -0.1022</td> <td>    0.003</td> <td>  -30.696</td> <td> 0.000</td> <td>   -0.109</td> <td>   -0.096</td>\n",
       "</tr>\n",
       "<tr>\n",
       "  <th>sqft_lot15</th>  <td>   -0.0109</td> <td>    0.003</td> <td>   -3.743</td> <td> 0.000</td> <td>   -0.017</td> <td>   -0.005</td>\n",
       "</tr>\n",
       "</table>\n",
       "<table class=\"simpletable\">\n",
       "<tr>\n",
       "  <th>Omnibus:</th>       <td>140.352</td> <th>  Durbin-Watson:     </th> <td>   2.018</td>\n",
       "</tr>\n",
       "<tr>\n",
       "  <th>Prob(Omnibus):</th> <td> 0.000</td>  <th>  Jarque-Bera (JB):  </th> <td> 144.027</td>\n",
       "</tr>\n",
       "<tr>\n",
       "  <th>Skew:</th>          <td>-0.236</td>  <th>  Prob(JB):          </th> <td>5.31e-32</td>\n",
       "</tr>\n",
       "<tr>\n",
       "  <th>Kurtosis:</th>      <td> 3.058</td>  <th>  Cond. No.          </th> <td>    3.43</td>\n",
       "</tr>\n",
       "</table><br/><br/>Notes:<br/>[1] Standard Errors assume that the covariance matrix of the errors is correctly specified."
      ],
      "text/plain": [
       "<class 'statsmodels.iolib.summary.Summary'>\n",
       "\"\"\"\n",
       "                            OLS Regression Results                            \n",
       "==============================================================================\n",
       "Dep. Variable:                  price   R-squared:                       0.413\n",
       "Model:                            OLS   Adj. R-squared:                  0.413\n",
       "Method:                 Least Squares   F-statistic:                     2153.\n",
       "Date:                Sun, 30 Jan 2022   Prob (F-statistic):               0.00\n",
       "Time:                        23:27:05   Log-Likelihood:                -5192.6\n",
       "No. Observations:               15276   AIC:                         1.040e+04\n",
       "Df Residuals:                   15270   BIC:                         1.044e+04\n",
       "Df Model:                           5                                         \n",
       "Covariance Type:            nonrobust                                         \n",
       "===============================================================================\n",
       "                  coef    std err          t      P>|t|      [0.025      0.975]\n",
       "-------------------------------------------------------------------------------\n",
       "Intercept      13.0207      0.003   4677.779      0.000      13.015      13.026\n",
       "bedrooms       -0.0566      0.003    -16.245      0.000      -0.063      -0.050\n",
       "bathrooms       0.1015      0.005     20.864      0.000       0.092       0.111\n",
       "sqft_living     0.3246      0.005     62.449      0.000       0.314       0.335\n",
       "yr_built       -0.1022      0.003    -30.696      0.000      -0.109      -0.096\n",
       "sqft_lot15     -0.0109      0.003     -3.743      0.000      -0.017      -0.005\n",
       "==============================================================================\n",
       "Omnibus:                      140.352   Durbin-Watson:                   2.018\n",
       "Prob(Omnibus):                  0.000   Jarque-Bera (JB):              144.027\n",
       "Skew:                          -0.236   Prob(JB):                     5.31e-32\n",
       "Kurtosis:                       3.058   Cond. No.                         3.43\n",
       "==============================================================================\n",
       "\n",
       "Notes:\n",
       "[1] Standard Errors assume that the covariance matrix of the errors is correctly specified.\n",
       "\"\"\""
      ]
     },
     "execution_count": 175,
     "metadata": {},
     "output_type": "execute_result"
    }
   ],
   "source": [
    "# Applying a log transformation\n",
    "subset.price = house_data.price.map(np.log) \n",
    "train, test = train_test_split(subset)\n",
    "\n",
    "# Refitting model with subset\n",
    "predictors = '+'.join(x_cols)\n",
    "formula = outcome + \"~\" + predictors\n",
    "model = ols(formula=formula, data=train).fit()\n",
    "model.summary()"
   ]
  },
  {
   "cell_type": "code",
   "execution_count": 178,
   "metadata": {},
   "outputs": [
    {
     "data": {
      "text/html": [
       "<table class=\"simpletable\">\n",
       "<caption>OLS Regression Results</caption>\n",
       "<tr>\n",
       "  <th>Dep. Variable:</th>          <td>price</td>      <th>  R-squared:         </th> <td>   0.544</td>\n",
       "</tr>\n",
       "<tr>\n",
       "  <th>Model:</th>                   <td>OLS</td>       <th>  Adj. R-squared:    </th> <td>   0.544</td>\n",
       "</tr>\n",
       "<tr>\n",
       "  <th>Method:</th>             <td>Least Squares</td>  <th>  F-statistic:       </th> <td>   958.8</td>\n",
       "</tr>\n",
       "<tr>\n",
       "  <th>Date:</th>             <td>Sun, 30 Jan 2022</td> <th>  Prob (F-statistic):</th>  <td>  0.00</td> \n",
       "</tr>\n",
       "<tr>\n",
       "  <th>Time:</th>                 <td>23:27:29</td>     <th>  Log-Likelihood:    </th> <td> -3266.1</td>\n",
       "</tr>\n",
       "<tr>\n",
       "  <th>No. Observations:</th>      <td> 15276</td>      <th>  AIC:               </th> <td>   6572.</td>\n",
       "</tr>\n",
       "<tr>\n",
       "  <th>Df Residuals:</th>          <td> 15256</td>      <th>  BIC:               </th> <td>   6725.</td>\n",
       "</tr>\n",
       "<tr>\n",
       "  <th>Df Model:</th>              <td>    19</td>      <th>                     </th>     <td> </td>   \n",
       "</tr>\n",
       "<tr>\n",
       "  <th>Covariance Type:</th>      <td>nonrobust</td>    <th>                     </th>     <td> </td>   \n",
       "</tr>\n",
       "</table>\n",
       "<table class=\"simpletable\">\n",
       "<tr>\n",
       "             <td></td>               <th>coef</th>     <th>std err</th>      <th>t</th>      <th>P>|t|</th>  <th>[0.025</th>    <th>0.975]</th>  \n",
       "</tr>\n",
       "<tr>\n",
       "  <th>Intercept</th>              <td>   13.2685</td> <td>    0.017</td> <td>  763.553</td> <td> 0.000</td> <td>   13.234</td> <td>   13.303</td>\n",
       "</tr>\n",
       "<tr>\n",
       "  <th>grade[T.11 Excellent]</th>  <td>    0.0261</td> <td>    0.032</td> <td>    0.806</td> <td> 0.420</td> <td>   -0.037</td> <td>    0.089</td>\n",
       "</tr>\n",
       "<tr>\n",
       "  <th>grade[T.12 Luxury]</th>     <td>   -0.3115</td> <td>    0.174</td> <td>   -1.791</td> <td> 0.073</td> <td>   -0.653</td> <td>    0.029</td>\n",
       "</tr>\n",
       "<tr>\n",
       "  <th>grade[T.3 Poor]</th>        <td>   -0.9498</td> <td>    0.301</td> <td>   -3.160</td> <td> 0.002</td> <td>   -1.539</td> <td>   -0.361</td>\n",
       "</tr>\n",
       "<tr>\n",
       "  <th>grade[T.4 Low]</th>         <td>   -1.0826</td> <td>    0.063</td> <td>  -17.237</td> <td> 0.000</td> <td>   -1.206</td> <td>   -0.960</td>\n",
       "</tr>\n",
       "<tr>\n",
       "  <th>grade[T.5 Fair]</th>        <td>   -1.0269</td> <td>    0.029</td> <td>  -35.554</td> <td> 0.000</td> <td>   -1.083</td> <td>   -0.970</td>\n",
       "</tr>\n",
       "<tr>\n",
       "  <th>grade[T.6 Low Average]</th> <td>   -0.7953</td> <td>    0.019</td> <td>  -42.988</td> <td> 0.000</td> <td>   -0.832</td> <td>   -0.759</td>\n",
       "</tr>\n",
       "<tr>\n",
       "  <th>grade[T.7 Average]</th>     <td>   -0.5116</td> <td>    0.016</td> <td>  -32.631</td> <td> 0.000</td> <td>   -0.542</td> <td>   -0.481</td>\n",
       "</tr>\n",
       "<tr>\n",
       "  <th>grade[T.8 Good]</th>        <td>   -0.2795</td> <td>    0.015</td> <td>  -19.172</td> <td> 0.000</td> <td>   -0.308</td> <td>   -0.251</td>\n",
       "</tr>\n",
       "<tr>\n",
       "  <th>grade[T.9 Better]</th>      <td>   -0.0877</td> <td>    0.015</td> <td>   -5.953</td> <td> 0.000</td> <td>   -0.117</td> <td>   -0.059</td>\n",
       "</tr>\n",
       "<tr>\n",
       "  <th>condition[T.Fair]</th>      <td>   -0.1861</td> <td>    0.026</td> <td>   -7.052</td> <td> 0.000</td> <td>   -0.238</td> <td>   -0.134</td>\n",
       "</tr>\n",
       "<tr>\n",
       "  <th>condition[T.Good]</th>      <td>    0.0158</td> <td>    0.006</td> <td>    2.629</td> <td> 0.009</td> <td>    0.004</td> <td>    0.028</td>\n",
       "</tr>\n",
       "<tr>\n",
       "  <th>condition[T.Poor]</th>      <td>   -0.1657</td> <td>    0.064</td> <td>   -2.570</td> <td> 0.010</td> <td>   -0.292</td> <td>   -0.039</td>\n",
       "</tr>\n",
       "<tr>\n",
       "  <th>condition[T.Very Good]</th> <td>    0.0865</td> <td>    0.010</td> <td>    8.855</td> <td> 0.000</td> <td>    0.067</td> <td>    0.106</td>\n",
       "</tr>\n",
       "<tr>\n",
       "  <th>waterfront[T.YES]</th>      <td>    0.3369</td> <td>    0.051</td> <td>    6.624</td> <td> 0.000</td> <td>    0.237</td> <td>    0.437</td>\n",
       "</tr>\n",
       "<tr>\n",
       "  <th>bedrooms</th>               <td>   -0.0295</td> <td>    0.003</td> <td>   -9.348</td> <td> 0.000</td> <td>   -0.036</td> <td>   -0.023</td>\n",
       "</tr>\n",
       "<tr>\n",
       "  <th>bathrooms</th>              <td>    0.0503</td> <td>    0.004</td> <td>   11.191</td> <td> 0.000</td> <td>    0.042</td> <td>    0.059</td>\n",
       "</tr>\n",
       "<tr>\n",
       "  <th>sqft_living</th>            <td>    0.1727</td> <td>    0.005</td> <td>   31.770</td> <td> 0.000</td> <td>    0.162</td> <td>    0.183</td>\n",
       "</tr>\n",
       "<tr>\n",
       "  <th>yr_built</th>               <td>   -0.1670</td> <td>    0.003</td> <td>  -50.162</td> <td> 0.000</td> <td>   -0.174</td> <td>   -0.160</td>\n",
       "</tr>\n",
       "<tr>\n",
       "  <th>floors</th>                 <td>    0.0883</td> <td>    0.006</td> <td>   15.339</td> <td> 0.000</td> <td>    0.077</td> <td>    0.100</td>\n",
       "</tr>\n",
       "</table>\n",
       "<table class=\"simpletable\">\n",
       "<tr>\n",
       "  <th>Omnibus:</th>       <td>125.699</td> <th>  Durbin-Watson:     </th> <td>   2.008</td>\n",
       "</tr>\n",
       "<tr>\n",
       "  <th>Prob(Omnibus):</th> <td> 0.000</td>  <th>  Jarque-Bera (JB):  </th> <td> 133.755</td>\n",
       "</tr>\n",
       "<tr>\n",
       "  <th>Skew:</th>          <td>-0.198</td>  <th>  Prob(JB):          </th> <td>9.03e-30</td>\n",
       "</tr>\n",
       "<tr>\n",
       "  <th>Kurtosis:</th>      <td> 3.232</td>  <th>  Cond. No.          </th> <td>    239.</td>\n",
       "</tr>\n",
       "</table><br/><br/>Notes:<br/>[1] Standard Errors assume that the covariance matrix of the errors is correctly specified."
      ],
      "text/plain": [
       "<class 'statsmodels.iolib.summary.Summary'>\n",
       "\"\"\"\n",
       "                            OLS Regression Results                            \n",
       "==============================================================================\n",
       "Dep. Variable:                  price   R-squared:                       0.544\n",
       "Model:                            OLS   Adj. R-squared:                  0.544\n",
       "Method:                 Least Squares   F-statistic:                     958.8\n",
       "Date:                Sun, 30 Jan 2022   Prob (F-statistic):               0.00\n",
       "Time:                        23:27:29   Log-Likelihood:                -3266.1\n",
       "No. Observations:               15276   AIC:                             6572.\n",
       "Df Residuals:                   15256   BIC:                             6725.\n",
       "Df Model:                          19                                         \n",
       "Covariance Type:            nonrobust                                         \n",
       "==========================================================================================\n",
       "                             coef    std err          t      P>|t|      [0.025      0.975]\n",
       "------------------------------------------------------------------------------------------\n",
       "Intercept                 13.2685      0.017    763.553      0.000      13.234      13.303\n",
       "grade[T.11 Excellent]      0.0261      0.032      0.806      0.420      -0.037       0.089\n",
       "grade[T.12 Luxury]        -0.3115      0.174     -1.791      0.073      -0.653       0.029\n",
       "grade[T.3 Poor]           -0.9498      0.301     -3.160      0.002      -1.539      -0.361\n",
       "grade[T.4 Low]            -1.0826      0.063    -17.237      0.000      -1.206      -0.960\n",
       "grade[T.5 Fair]           -1.0269      0.029    -35.554      0.000      -1.083      -0.970\n",
       "grade[T.6 Low Average]    -0.7953      0.019    -42.988      0.000      -0.832      -0.759\n",
       "grade[T.7 Average]        -0.5116      0.016    -32.631      0.000      -0.542      -0.481\n",
       "grade[T.8 Good]           -0.2795      0.015    -19.172      0.000      -0.308      -0.251\n",
       "grade[T.9 Better]         -0.0877      0.015     -5.953      0.000      -0.117      -0.059\n",
       "condition[T.Fair]         -0.1861      0.026     -7.052      0.000      -0.238      -0.134\n",
       "condition[T.Good]          0.0158      0.006      2.629      0.009       0.004       0.028\n",
       "condition[T.Poor]         -0.1657      0.064     -2.570      0.010      -0.292      -0.039\n",
       "condition[T.Very Good]     0.0865      0.010      8.855      0.000       0.067       0.106\n",
       "waterfront[T.YES]          0.3369      0.051      6.624      0.000       0.237       0.437\n",
       "bedrooms                  -0.0295      0.003     -9.348      0.000      -0.036      -0.023\n",
       "bathrooms                  0.0503      0.004     11.191      0.000       0.042       0.059\n",
       "sqft_living                0.1727      0.005     31.770      0.000       0.162       0.183\n",
       "yr_built                  -0.1670      0.003    -50.162      0.000      -0.174      -0.160\n",
       "floors                     0.0883      0.006     15.339      0.000       0.077       0.100\n",
       "==============================================================================\n",
       "Omnibus:                      125.699   Durbin-Watson:                   2.008\n",
       "Prob(Omnibus):                  0.000   Jarque-Bera (JB):              133.755\n",
       "Skew:                          -0.198   Prob(JB):                     9.03e-30\n",
       "Kurtosis:                       3.232   Cond. No.                         239.\n",
       "==============================================================================\n",
       "\n",
       "Notes:\n",
       "[1] Standard Errors assume that the covariance matrix of the errors is correctly specified.\n",
       "\"\"\""
      ]
     },
     "execution_count": 178,
     "metadata": {},
     "output_type": "execute_result"
    }
   ],
   "source": [
    "x_cols = ['bedrooms', 'bathrooms', 'sqft_living', 'grade', 'yr_built', 'condition', 'floors', 'waterfront']\n",
    "predictors = '+'.join(x_cols)\n",
    "formula = outcome + \"~\" + predictors\n",
    "model = ols(formula=formula, data=train).fit()\n",
    "model.summary()"
   ]
  },
  {
   "cell_type": "code",
   "execution_count": 179,
   "metadata": {},
   "outputs": [
    {
     "data": {
      "image/png": "[encoded data removed]",
      "text/plain": [
       "<Figure size 432x288 with 1 Axes>"
      ]
     },
     "metadata": {
      "needs_background": "light"
     },
     "output_type": "display_data"
    }
   ],
   "source": [
    "fig = sm.graphics.qqplot(model.resid, dist=stats.norm, line='45', fit=True)"
   ]
  },
  {
   "cell_type": "code",
   "execution_count": 180,
   "metadata": {},
   "outputs": [
    {
     "data": {
      "text/plain": [
       "[<matplotlib.lines.Line2D at 0x2a78db64c70>]"
      ]
     },
     "execution_count": 180,
     "metadata": {},
     "output_type": "execute_result"
    },
    {
     "data": {
      "image/png": "[encoded data removed]",
      "text/plain": [
       "<Figure size 432x288 with 1 Axes>"
      ]
     },
     "metadata": {
      "needs_background": "light"
     },
     "output_type": "display_data"
    }
   ],
   "source": [
    "plt.scatter(model.predict(train[x_cols]), model.resid)\n",
    "plt.plot(model.predict(train[x_cols]), [0 for i in range(len(train))])"
   ]
  },
  {
   "cell_type": "markdown",
   "metadata": {},
   "source": [
    "Looks like the model is considered fairly linear between extremely low and extremely high values, but fails elsewhere. A subset of the data should help the model retain linearity."
   ]
  },
  {
   "cell_type": "code",
   "execution_count": 153,
   "metadata": {},
   "outputs": [],
   "source": [
    "from statsmodels.stats.outliers_influence import variance_inflation_factor"
   ]
  },
  {
   "cell_type": "code",
   "execution_count": 181,
   "metadata": {},
   "outputs": [
    {
     "data": {
      "text/plain": [
       "[('bedrooms', 1.554179656245716),\n",
       " ('bathrooms', 2.970003699966174),\n",
       " ('sqft_living', 2.64504007243411),\n",
       " ('grade', 1.3927212139264549),\n",
       " ('yr_built', 1.0395593758787307)]"
      ]
     },
     "execution_count": 181,
     "metadata": {},
     "output_type": "execute_result"
    }
   ],
   "source": [
    "X = house_data[['bedrooms', 'bathrooms', 'sqft_living', 'yr_built', 'floors']]\n",
    "vif = [variance_inflation_factor(X.values, i) for i in range(X.shape[1])]\n",
    "list(zip(x_cols, vif))"
   ]
  },
  {
   "cell_type": "code",
   "execution_count": 182,
   "metadata": {
    "scrolled": false
   },
   "outputs": [
    {
     "data": {
      "text/html": [
       "<table class=\"simpletable\">\n",
       "<caption>OLS Regression Results</caption>\n",
       "<tr>\n",
       "  <th>Dep. Variable:</th>          <td>price</td>      <th>  R-squared:         </th>  <td>   0.612</td>  \n",
       "</tr>\n",
       "<tr>\n",
       "  <th>Model:</th>                   <td>OLS</td>       <th>  Adj. R-squared:    </th>  <td>   0.612</td>  \n",
       "</tr>\n",
       "<tr>\n",
       "  <th>Method:</th>             <td>Least Squares</td>  <th>  F-statistic:       </th>  <td>   2433.</td>  \n",
       "</tr>\n",
       "<tr>\n",
       "  <th>Date:</th>             <td>Sun, 30 Jan 2022</td> <th>  Prob (F-statistic):</th>   <td>  0.00</td>   \n",
       "</tr>\n",
       "<tr>\n",
       "  <th>Time:</th>                 <td>23:28:24</td>     <th>  Log-Likelihood:    </th> <td>-2.9716e+05</td>\n",
       "</tr>\n",
       "<tr>\n",
       "  <th>No. Observations:</th>      <td> 21597</td>      <th>  AIC:               </th>  <td>5.944e+05</td> \n",
       "</tr>\n",
       "<tr>\n",
       "  <th>Df Residuals:</th>          <td> 21582</td>      <th>  BIC:               </th>  <td>5.945e+05</td> \n",
       "</tr>\n",
       "<tr>\n",
       "  <th>Df Model:</th>              <td>    14</td>      <th>                     </th>      <td> </td>     \n",
       "</tr>\n",
       "<tr>\n",
       "  <th>Covariance Type:</th>      <td>nonrobust</td>    <th>                     </th>      <td> </td>     \n",
       "</tr>\n",
       "</table>\n",
       "<table class=\"simpletable\">\n",
       "<tr>\n",
       "             <td></td>               <th>coef</th>     <th>std err</th>      <th>t</th>      <th>P>|t|</th>  <th>[0.025</th>    <th>0.975]</th>  \n",
       "</tr>\n",
       "<tr>\n",
       "  <th>Intercept</th>              <td> 1.031e+06</td> <td> 7246.549</td> <td>  142.320</td> <td> 0.000</td> <td> 1.02e+06</td> <td> 1.05e+06</td>\n",
       "</tr>\n",
       "<tr>\n",
       "  <th>grade[T.11 Excellent]</th>  <td> 3.706e+05</td> <td> 1.34e+04</td> <td>   27.659</td> <td> 0.000</td> <td> 3.44e+05</td> <td> 3.97e+05</td>\n",
       "</tr>\n",
       "<tr>\n",
       "  <th>grade[T.12 Luxury]</th>     <td> 1.008e+06</td> <td> 2.54e+04</td> <td>   39.716</td> <td> 0.000</td> <td> 9.58e+05</td> <td> 1.06e+06</td>\n",
       "</tr>\n",
       "<tr>\n",
       "  <th>grade[T.13 Mansion]</th>    <td> 2.305e+06</td> <td> 6.42e+04</td> <td>   35.929</td> <td> 0.000</td> <td> 2.18e+06</td> <td> 2.43e+06</td>\n",
       "</tr>\n",
       "<tr>\n",
       "  <th>grade[T.3 Poor]</th>        <td>-7.942e+05</td> <td> 2.29e+05</td> <td>   -3.467</td> <td> 0.001</td> <td>-1.24e+06</td> <td>-3.45e+05</td>\n",
       "</tr>\n",
       "<tr>\n",
       "  <th>grade[T.4 Low]</th>         <td>-7.989e+05</td> <td>  4.5e+04</td> <td>  -17.742</td> <td> 0.000</td> <td>-8.87e+05</td> <td>-7.11e+05</td>\n",
       "</tr>\n",
       "<tr>\n",
       "  <th>grade[T.5 Fair]</th>        <td>-7.949e+05</td> <td> 1.71e+04</td> <td>  -46.367</td> <td> 0.000</td> <td>-8.29e+05</td> <td>-7.61e+05</td>\n",
       "</tr>\n",
       "<tr>\n",
       "  <th>grade[T.6 Low Average]</th> <td> -7.31e+05</td> <td> 9895.474</td> <td>  -73.874</td> <td> 0.000</td> <td> -7.5e+05</td> <td>-7.12e+05</td>\n",
       "</tr>\n",
       "<tr>\n",
       "  <th>grade[T.7 Average]</th>     <td>-6.216e+05</td> <td> 7944.281</td> <td>  -78.243</td> <td> 0.000</td> <td>-6.37e+05</td> <td>-6.06e+05</td>\n",
       "</tr>\n",
       "<tr>\n",
       "  <th>grade[T.8 Good]</th>        <td>-4.805e+05</td> <td> 7640.465</td> <td>  -62.895</td> <td> 0.000</td> <td>-4.96e+05</td> <td>-4.66e+05</td>\n",
       "</tr>\n",
       "<tr>\n",
       "  <th>grade[T.9 Better]</th>      <td>-2.582e+05</td> <td> 8199.574</td> <td>  -31.488</td> <td> 0.000</td> <td>-2.74e+05</td> <td>-2.42e+05</td>\n",
       "</tr>\n",
       "<tr>\n",
       "  <th>bedrooms</th>               <td> 2657.6453</td> <td> 1852.617</td> <td>    1.435</td> <td> 0.151</td> <td> -973.621</td> <td> 6288.911</td>\n",
       "</tr>\n",
       "<tr>\n",
       "  <th>bathrooms</th>              <td> 1.019e+05</td> <td> 2439.852</td> <td>   41.778</td> <td> 0.000</td> <td> 9.72e+04</td> <td> 1.07e+05</td>\n",
       "</tr>\n",
       "<tr>\n",
       "  <th>sqft_lot15</th>             <td>-3525.7531</td> <td> 1576.008</td> <td>   -2.237</td> <td> 0.025</td> <td>-6614.844</td> <td> -436.662</td>\n",
       "</tr>\n",
       "<tr>\n",
       "  <th>yr_built</th>               <td>-1.225e+05</td> <td> 1897.605</td> <td>  -64.564</td> <td> 0.000</td> <td>-1.26e+05</td> <td>-1.19e+05</td>\n",
       "</tr>\n",
       "</table>\n",
       "<table class=\"simpletable\">\n",
       "<tr>\n",
       "  <th>Omnibus:</th>       <td>15907.597</td> <th>  Durbin-Watson:     </th>  <td>   1.978</td> \n",
       "</tr>\n",
       "<tr>\n",
       "  <th>Prob(Omnibus):</th>  <td> 0.000</td>   <th>  Jarque-Bera (JB):  </th> <td>961355.776</td>\n",
       "</tr>\n",
       "<tr>\n",
       "  <th>Skew:</th>           <td> 2.972</td>   <th>  Prob(JB):          </th>  <td>    0.00</td> \n",
       "</tr>\n",
       "<tr>\n",
       "  <th>Kurtosis:</th>       <td>35.140</td>   <th>  Cond. No.          </th>  <td>    202.</td> \n",
       "</tr>\n",
       "</table><br/><br/>Notes:<br/>[1] Standard Errors assume that the covariance matrix of the errors is correctly specified."
      ],
      "text/plain": [
       "<class 'statsmodels.iolib.summary.Summary'>\n",
       "\"\"\"\n",
       "                            OLS Regression Results                            \n",
       "==============================================================================\n",
       "Dep. Variable:                  price   R-squared:                       0.612\n",
       "Model:                            OLS   Adj. R-squared:                  0.612\n",
       "Method:                 Least Squares   F-statistic:                     2433.\n",
       "Date:                Sun, 30 Jan 2022   Prob (F-statistic):               0.00\n",
       "Time:                        23:28:24   Log-Likelihood:            -2.9716e+05\n",
       "No. Observations:               21597   AIC:                         5.944e+05\n",
       "Df Residuals:                   21582   BIC:                         5.945e+05\n",
       "Df Model:                          14                                         \n",
       "Covariance Type:            nonrobust                                         \n",
       "==========================================================================================\n",
       "                             coef    std err          t      P>|t|      [0.025      0.975]\n",
       "------------------------------------------------------------------------------------------\n",
       "Intercept               1.031e+06   7246.549    142.320      0.000    1.02e+06    1.05e+06\n",
       "grade[T.11 Excellent]   3.706e+05   1.34e+04     27.659      0.000    3.44e+05    3.97e+05\n",
       "grade[T.12 Luxury]      1.008e+06   2.54e+04     39.716      0.000    9.58e+05    1.06e+06\n",
       "grade[T.13 Mansion]     2.305e+06   6.42e+04     35.929      0.000    2.18e+06    2.43e+06\n",
       "grade[T.3 Poor]        -7.942e+05   2.29e+05     -3.467      0.001   -1.24e+06   -3.45e+05\n",
       "grade[T.4 Low]         -7.989e+05    4.5e+04    -17.742      0.000   -8.87e+05   -7.11e+05\n",
       "grade[T.5 Fair]        -7.949e+05   1.71e+04    -46.367      0.000   -8.29e+05   -7.61e+05\n",
       "grade[T.6 Low Average]  -7.31e+05   9895.474    -73.874      0.000    -7.5e+05   -7.12e+05\n",
       "grade[T.7 Average]     -6.216e+05   7944.281    -78.243      0.000   -6.37e+05   -6.06e+05\n",
       "grade[T.8 Good]        -4.805e+05   7640.465    -62.895      0.000   -4.96e+05   -4.66e+05\n",
       "grade[T.9 Better]      -2.582e+05   8199.574    -31.488      0.000   -2.74e+05   -2.42e+05\n",
       "bedrooms                2657.6453   1852.617      1.435      0.151    -973.621    6288.911\n",
       "bathrooms               1.019e+05   2439.852     41.778      0.000    9.72e+04    1.07e+05\n",
       "sqft_lot15             -3525.7531   1576.008     -2.237      0.025   -6614.844    -436.662\n",
       "yr_built               -1.225e+05   1897.605    -64.564      0.000   -1.26e+05   -1.19e+05\n",
       "==============================================================================\n",
       "Omnibus:                    15907.597   Durbin-Watson:                   1.978\n",
       "Prob(Omnibus):                  0.000   Jarque-Bera (JB):           961355.776\n",
       "Skew:                           2.972   Prob(JB):                         0.00\n",
       "Kurtosis:                      35.140   Cond. No.                         202.\n",
       "==============================================================================\n",
       "\n",
       "Notes:\n",
       "[1] Standard Errors assume that the covariance matrix of the errors is correctly specified.\n",
       "\"\"\""
      ]
     },
     "execution_count": 182,
     "metadata": {},
     "output_type": "execute_result"
    }
   ],
   "source": [
    "x_cols = ['bedrooms', 'bathrooms', 'sqft_lot15', 'yr_built', 'grade']\n",
    "predictors = '+'.join(x_cols)\n",
    "formula = outcome + '~' + predictors\n",
    "model = ols(formula=formula, data=house_data).fit()\n",
    "model.summary()"
   ]
  },
  {
   "cell_type": "code",
   "execution_count": 186,
   "metadata": {},
   "outputs": [
    {
     "data": {
      "text/html": [
       "<table class=\"simpletable\">\n",
       "<caption>OLS Regression Results</caption>\n",
       "<tr>\n",
       "  <th>Dep. Variable:</th>          <td>price</td>      <th>  R-squared:         </th> <td>   0.544</td>\n",
       "</tr>\n",
       "<tr>\n",
       "  <th>Model:</th>                   <td>OLS</td>       <th>  Adj. R-squared:    </th> <td>   0.544</td>\n",
       "</tr>\n",
       "<tr>\n",
       "  <th>Method:</th>             <td>Least Squares</td>  <th>  F-statistic:       </th> <td>   958.8</td>\n",
       "</tr>\n",
       "<tr>\n",
       "  <th>Date:</th>             <td>Sun, 30 Jan 2022</td> <th>  Prob (F-statistic):</th>  <td>  0.00</td> \n",
       "</tr>\n",
       "<tr>\n",
       "  <th>Time:</th>                 <td>23:30:05</td>     <th>  Log-Likelihood:    </th> <td> -3266.1</td>\n",
       "</tr>\n",
       "<tr>\n",
       "  <th>No. Observations:</th>      <td> 15276</td>      <th>  AIC:               </th> <td>   6572.</td>\n",
       "</tr>\n",
       "<tr>\n",
       "  <th>Df Residuals:</th>          <td> 15256</td>      <th>  BIC:               </th> <td>   6725.</td>\n",
       "</tr>\n",
       "<tr>\n",
       "  <th>Df Model:</th>              <td>    19</td>      <th>                     </th>     <td> </td>   \n",
       "</tr>\n",
       "<tr>\n",
       "  <th>Covariance Type:</th>      <td>nonrobust</td>    <th>                     </th>     <td> </td>   \n",
       "</tr>\n",
       "</table>\n",
       "<table class=\"simpletable\">\n",
       "<tr>\n",
       "             <td></td>               <th>coef</th>     <th>std err</th>      <th>t</th>      <th>P>|t|</th>  <th>[0.025</th>    <th>0.975]</th>  \n",
       "</tr>\n",
       "<tr>\n",
       "  <th>Intercept</th>              <td>   13.2685</td> <td>    0.017</td> <td>  763.553</td> <td> 0.000</td> <td>   13.234</td> <td>   13.303</td>\n",
       "</tr>\n",
       "<tr>\n",
       "  <th>grade[T.11 Excellent]</th>  <td>    0.0261</td> <td>    0.032</td> <td>    0.806</td> <td> 0.420</td> <td>   -0.037</td> <td>    0.089</td>\n",
       "</tr>\n",
       "<tr>\n",
       "  <th>grade[T.12 Luxury]</th>     <td>   -0.3115</td> <td>    0.174</td> <td>   -1.791</td> <td> 0.073</td> <td>   -0.653</td> <td>    0.029</td>\n",
       "</tr>\n",
       "<tr>\n",
       "  <th>grade[T.3 Poor]</th>        <td>   -0.9498</td> <td>    0.301</td> <td>   -3.160</td> <td> 0.002</td> <td>   -1.539</td> <td>   -0.361</td>\n",
       "</tr>\n",
       "<tr>\n",
       "  <th>grade[T.4 Low]</th>         <td>   -1.0826</td> <td>    0.063</td> <td>  -17.237</td> <td> 0.000</td> <td>   -1.206</td> <td>   -0.960</td>\n",
       "</tr>\n",
       "<tr>\n",
       "  <th>grade[T.5 Fair]</th>        <td>   -1.0269</td> <td>    0.029</td> <td>  -35.554</td> <td> 0.000</td> <td>   -1.083</td> <td>   -0.970</td>\n",
       "</tr>\n",
       "<tr>\n",
       "  <th>grade[T.6 Low Average]</th> <td>   -0.7953</td> <td>    0.019</td> <td>  -42.988</td> <td> 0.000</td> <td>   -0.832</td> <td>   -0.759</td>\n",
       "</tr>\n",
       "<tr>\n",
       "  <th>grade[T.7 Average]</th>     <td>   -0.5116</td> <td>    0.016</td> <td>  -32.631</td> <td> 0.000</td> <td>   -0.542</td> <td>   -0.481</td>\n",
       "</tr>\n",
       "<tr>\n",
       "  <th>grade[T.8 Good]</th>        <td>   -0.2795</td> <td>    0.015</td> <td>  -19.172</td> <td> 0.000</td> <td>   -0.308</td> <td>   -0.251</td>\n",
       "</tr>\n",
       "<tr>\n",
       "  <th>grade[T.9 Better]</th>      <td>   -0.0877</td> <td>    0.015</td> <td>   -5.953</td> <td> 0.000</td> <td>   -0.117</td> <td>   -0.059</td>\n",
       "</tr>\n",
       "<tr>\n",
       "  <th>condition[T.Fair]</th>      <td>   -0.1861</td> <td>    0.026</td> <td>   -7.052</td> <td> 0.000</td> <td>   -0.238</td> <td>   -0.134</td>\n",
       "</tr>\n",
       "<tr>\n",
       "  <th>condition[T.Good]</th>      <td>    0.0158</td> <td>    0.006</td> <td>    2.629</td> <td> 0.009</td> <td>    0.004</td> <td>    0.028</td>\n",
       "</tr>\n",
       "<tr>\n",
       "  <th>condition[T.Poor]</th>      <td>   -0.1657</td> <td>    0.064</td> <td>   -2.570</td> <td> 0.010</td> <td>   -0.292</td> <td>   -0.039</td>\n",
       "</tr>\n",
       "<tr>\n",
       "  <th>condition[T.Very Good]</th> <td>    0.0865</td> <td>    0.010</td> <td>    8.855</td> <td> 0.000</td> <td>    0.067</td> <td>    0.106</td>\n",
       "</tr>\n",
       "<tr>\n",
       "  <th>waterfront[T.YES]</th>      <td>    0.3369</td> <td>    0.051</td> <td>    6.624</td> <td> 0.000</td> <td>    0.237</td> <td>    0.437</td>\n",
       "</tr>\n",
       "<tr>\n",
       "  <th>bedrooms</th>               <td>   -0.0295</td> <td>    0.003</td> <td>   -9.348</td> <td> 0.000</td> <td>   -0.036</td> <td>   -0.023</td>\n",
       "</tr>\n",
       "<tr>\n",
       "  <th>bathrooms</th>              <td>    0.0503</td> <td>    0.004</td> <td>   11.191</td> <td> 0.000</td> <td>    0.042</td> <td>    0.059</td>\n",
       "</tr>\n",
       "<tr>\n",
       "  <th>sqft_living</th>            <td>    0.1727</td> <td>    0.005</td> <td>   31.770</td> <td> 0.000</td> <td>    0.162</td> <td>    0.183</td>\n",
       "</tr>\n",
       "<tr>\n",
       "  <th>yr_built</th>               <td>   -0.1670</td> <td>    0.003</td> <td>  -50.162</td> <td> 0.000</td> <td>   -0.174</td> <td>   -0.160</td>\n",
       "</tr>\n",
       "<tr>\n",
       "  <th>floors</th>                 <td>    0.0883</td> <td>    0.006</td> <td>   15.339</td> <td> 0.000</td> <td>    0.077</td> <td>    0.100</td>\n",
       "</tr>\n",
       "</table>\n",
       "<table class=\"simpletable\">\n",
       "<tr>\n",
       "  <th>Omnibus:</th>       <td>125.699</td> <th>  Durbin-Watson:     </th> <td>   2.008</td>\n",
       "</tr>\n",
       "<tr>\n",
       "  <th>Prob(Omnibus):</th> <td> 0.000</td>  <th>  Jarque-Bera (JB):  </th> <td> 133.755</td>\n",
       "</tr>\n",
       "<tr>\n",
       "  <th>Skew:</th>          <td>-0.198</td>  <th>  Prob(JB):          </th> <td>9.03e-30</td>\n",
       "</tr>\n",
       "<tr>\n",
       "  <th>Kurtosis:</th>      <td> 3.232</td>  <th>  Cond. No.          </th> <td>    239.</td>\n",
       "</tr>\n",
       "</table><br/><br/>Notes:<br/>[1] Standard Errors assume that the covariance matrix of the errors is correctly specified."
      ],
      "text/plain": [
       "<class 'statsmodels.iolib.summary.Summary'>\n",
       "\"\"\"\n",
       "                            OLS Regression Results                            \n",
       "==============================================================================\n",
       "Dep. Variable:                  price   R-squared:                       0.544\n",
       "Model:                            OLS   Adj. R-squared:                  0.544\n",
       "Method:                 Least Squares   F-statistic:                     958.8\n",
       "Date:                Sun, 30 Jan 2022   Prob (F-statistic):               0.00\n",
       "Time:                        23:30:05   Log-Likelihood:                -3266.1\n",
       "No. Observations:               15276   AIC:                             6572.\n",
       "Df Residuals:                   15256   BIC:                             6725.\n",
       "Df Model:                          19                                         \n",
       "Covariance Type:            nonrobust                                         \n",
       "==========================================================================================\n",
       "                             coef    std err          t      P>|t|      [0.025      0.975]\n",
       "------------------------------------------------------------------------------------------\n",
       "Intercept                 13.2685      0.017    763.553      0.000      13.234      13.303\n",
       "grade[T.11 Excellent]      0.0261      0.032      0.806      0.420      -0.037       0.089\n",
       "grade[T.12 Luxury]        -0.3115      0.174     -1.791      0.073      -0.653       0.029\n",
       "grade[T.3 Poor]           -0.9498      0.301     -3.160      0.002      -1.539      -0.361\n",
       "grade[T.4 Low]            -1.0826      0.063    -17.237      0.000      -1.206      -0.960\n",
       "grade[T.5 Fair]           -1.0269      0.029    -35.554      0.000      -1.083      -0.970\n",
       "grade[T.6 Low Average]    -0.7953      0.019    -42.988      0.000      -0.832      -0.759\n",
       "grade[T.7 Average]        -0.5116      0.016    -32.631      0.000      -0.542      -0.481\n",
       "grade[T.8 Good]           -0.2795      0.015    -19.172      0.000      -0.308      -0.251\n",
       "grade[T.9 Better]         -0.0877      0.015     -5.953      0.000      -0.117      -0.059\n",
       "condition[T.Fair]         -0.1861      0.026     -7.052      0.000      -0.238      -0.134\n",
       "condition[T.Good]          0.0158      0.006      2.629      0.009       0.004       0.028\n",
       "condition[T.Poor]         -0.1657      0.064     -2.570      0.010      -0.292      -0.039\n",
       "condition[T.Very Good]     0.0865      0.010      8.855      0.000       0.067       0.106\n",
       "waterfront[T.YES]          0.3369      0.051      6.624      0.000       0.237       0.437\n",
       "bedrooms                  -0.0295      0.003     -9.348      0.000      -0.036      -0.023\n",
       "bathrooms                  0.0503      0.004     11.191      0.000       0.042       0.059\n",
       "sqft_living                0.1727      0.005     31.770      0.000       0.162       0.183\n",
       "yr_built                  -0.1670      0.003    -50.162      0.000      -0.174      -0.160\n",
       "floors                     0.0883      0.006     15.339      0.000       0.077       0.100\n",
       "==============================================================================\n",
       "Omnibus:                      125.699   Durbin-Watson:                   2.008\n",
       "Prob(Omnibus):                  0.000   Jarque-Bera (JB):              133.755\n",
       "Skew:                          -0.198   Prob(JB):                     9.03e-30\n",
       "Kurtosis:                       3.232   Cond. No.                         239.\n",
       "==============================================================================\n",
       "\n",
       "Notes:\n",
       "[1] Standard Errors assume that the covariance matrix of the errors is correctly specified.\n",
       "\"\"\""
      ]
     },
     "execution_count": 186,
     "metadata": {},
     "output_type": "execute_result"
    }
   ],
   "source": [
    "x_cols = ['bedrooms', 'bathrooms', 'sqft_living', 'grade', 'yr_built', 'condition', 'floors', 'waterfront']\n",
    "predictors = '+'.join(x_cols)\n",
    "formula = outcome + \"~\" + predictors\n",
    "model = ols(formula=formula, data=train).fit()\n",
    "model.summary()"
   ]
  },
  {
   "cell_type": "code",
   "execution_count": 187,
   "metadata": {},
   "outputs": [
    {
     "data": {
      "image/png": "[encoded data removed]",
      "text/plain": [
       "<Figure size 432x288 with 1 Axes>"
      ]
     },
     "metadata": {
      "needs_background": "light"
     },
     "output_type": "display_data"
    }
   ],
   "source": [
    "fig = sm.graphics.qqplot(model.resid, dist=stats.norm, line='45', fit=True)"
   ]
  },
  {
   "cell_type": "code",
   "execution_count": 188,
   "metadata": {},
   "outputs": [
    {
     "data": {
      "image/png": "[encoded data removed]",
      "text/plain": [
       "<Figure size 432x288 with 1 Axes>"
      ]
     },
     "metadata": {
      "needs_background": "light"
     },
     "output_type": "display_data"
    }
   ],
   "source": [
    "plt.scatter(model.predict(train[x_cols]), model.resid)\n",
    "plt.plot(model.predict(train[x_cols]), [0 for i in range(len(train))])\n",
    "plt.show()"
   ]
  },
  {
   "cell_type": "code",
   "execution_count": null,
   "metadata": {},
   "outputs": [],
   "source": []
  }
 ],
 "metadata": {
  "kernelspec": {
   "display_name": "Python 3",
   "language": "python",
   "name": "python3"
  }
 },
 "nbformat": 4,
 "nbformat_minor": 2
}
